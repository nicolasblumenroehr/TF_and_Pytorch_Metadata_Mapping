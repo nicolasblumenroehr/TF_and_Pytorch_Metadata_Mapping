{
 "cells": [
  {
   "cell_type": "code",
   "execution_count": 1,
   "id": "81facbe7-4bec-4c05-aba6-f580ebf87f3a",
   "metadata": {},
   "outputs": [],
   "source": [
    "class Extractor:\n",
    "    \n",
    "    def __init__(self, schema):\n",
    "        \n",
    "        self.s = schema\n",
    "    \n",
    "    def extractSchema(self):\n",
    "        \n",
    "        if \"name\" in self.s[\"resources\"][0]:\n",
    "            self.name = self.s[\"resources\"][0][\"name\"]\n",
    "        else:\n",
    "            self.name = None\n",
    "            \n",
    "        if \"description\" in self.s[\"resources\"][0]:\n",
    "            self.description = self.s[\"resources\"][0][\"description\"]\n",
    "        else:\n",
    "            self.description = None\n",
    "            \n",
    "        if \"path\" in self.s[\"resources\"][0]:\n",
    "            self.homepage = self.s[\"resources\"][0][\"path\"]\n",
    "        else:\n",
    "            self.homepage = None\n",
    "        \n",
    "        if \"licenses\" in self.s[\"resources\"][0]:\n",
    "            self.license = self.s[\"resources\"][0][\"licenses\"]\n",
    "        else:\n",
    "            self.license = None\n",
    "            \n",
    "        if \"contributors\" in self.s:\n",
    "            self.citation = \" Contributors: \" + str(self.s[\"contributors\"][0])\n",
    "        else:\n",
    "            self.citation = None\n",
    "            \n",
    "        if \"format\" in self.s[\"resources\"][0]:\n",
    "            self.format = self.s[\"resources\"][0][\"format\"]\n",
    "        else:\n",
    "            self.format = None\n",
    "            \n",
    "        self.metadata = self.s\n",
    "        \n",
    "        return\n",
    "\n",
    "\n",
    "\n"
   ]
  },
  {
   "cell_type": "code",
   "execution_count": null,
   "id": "9eb7592d-4d2e-4b86-8917-a139388ba22d",
   "metadata": {},
   "outputs": [],
   "source": []
  }
 ],
 "metadata": {
  "kernelspec": {
   "display_name": "Python 3",
   "language": "python",
   "name": "python3"
  },
  "language_info": {
   "codemirror_mode": {
    "name": "ipython",
    "version": 3
   },
   "file_extension": ".py",
   "mimetype": "text/x-python",
   "name": "python",
   "nbconvert_exporter": "python",
   "pygments_lexer": "ipython3",
   "version": "3.8.8"
  }
 },
 "nbformat": 4,
 "nbformat_minor": 5
}
